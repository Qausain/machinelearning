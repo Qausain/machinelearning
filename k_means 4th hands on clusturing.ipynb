{
 "cells": [
  {
   "cell_type": "code",
   "execution_count": 7,
   "metadata": {},
   "outputs": [],
   "source": [
    "import numpy as np\n",
    "import pandas as pd\n",
    "#import math\n",
    "#from sklearn import datasets\n",
    "#from sklearn import svm\n",
    "#from sklearn import metrics\n",
    "from sklearn.cluster import KMeans\n",
    "#from sklearn import preprocessing, svm\n",
    "#from sklearn.linear_model import LinearRegression\n",
    "import matplotlib.pyplot as plt\n",
    "\n",
    "#from matplotlib import style\n",
    "#import datetime\n",
    "from sklearn.model_selection import train_test_split\n",
    "#style.use('ggplot')"
   ]
  },
  {
   "cell_type": "code",
   "execution_count": null,
   "metadata": {},
   "outputs": [],
   "source": []
  },
  {
   "cell_type": "code",
   "execution_count": null,
   "metadata": {},
   "outputs": [],
   "source": [
    "#Open the dataset"
   ]
  },
  {
   "cell_type": "code",
   "execution_count": 3,
   "metadata": {},
   "outputs": [],
   "source": [
    "df = pd.read_csv('data set/mango2.csv')"
   ]
  },
  {
   "cell_type": "code",
   "execution_count": 4,
   "metadata": {
    "scrolled": true
   },
   "outputs": [
    {
     "data": {
      "text/html": [
       "<div>\n",
       "<style scoped>\n",
       "    .dataframe tbody tr th:only-of-type {\n",
       "        vertical-align: middle;\n",
       "    }\n",
       "\n",
       "    .dataframe tbody tr th {\n",
       "        vertical-align: top;\n",
       "    }\n",
       "\n",
       "    .dataframe thead th {\n",
       "        text-align: right;\n",
       "    }\n",
       "</style>\n",
       "<table border=\"1\" class=\"dataframe\">\n",
       "  <thead>\n",
       "    <tr style=\"text-align: right;\">\n",
       "      <th></th>\n",
       "      <th>GreenMango Length</th>\n",
       "      <th>GreenMangowidth</th>\n",
       "      <th>YelloMangoLength</th>\n",
       "      <th>YelloMangoWidth</th>\n",
       "    </tr>\n",
       "  </thead>\n",
       "  <tbody>\n",
       "    <tr>\n",
       "      <th>0</th>\n",
       "      <td>10.2</td>\n",
       "      <td>10.5</td>\n",
       "      <td>5.6</td>\n",
       "      <td>0.6</td>\n",
       "    </tr>\n",
       "    <tr>\n",
       "      <th>1</th>\n",
       "      <td>9.8</td>\n",
       "      <td>9.0</td>\n",
       "      <td>5.6</td>\n",
       "      <td>0.6</td>\n",
       "    </tr>\n",
       "    <tr>\n",
       "      <th>2</th>\n",
       "      <td>9.4</td>\n",
       "      <td>9.6</td>\n",
       "      <td>5.2</td>\n",
       "      <td>0.6</td>\n",
       "    </tr>\n",
       "    <tr>\n",
       "      <th>3</th>\n",
       "      <td>9.2</td>\n",
       "      <td>9.3</td>\n",
       "      <td>6.0</td>\n",
       "      <td>0.6</td>\n",
       "    </tr>\n",
       "    <tr>\n",
       "      <th>4</th>\n",
       "      <td>10.0</td>\n",
       "      <td>10.8</td>\n",
       "      <td>5.6</td>\n",
       "      <td>0.6</td>\n",
       "    </tr>\n",
       "  </tbody>\n",
       "</table>\n",
       "</div>"
      ],
      "text/plain": [
       "   GreenMango Length  GreenMangowidth  YelloMangoLength  YelloMangoWidth\n",
       "0               10.2             10.5               5.6              0.6\n",
       "1                9.8              9.0               5.6              0.6\n",
       "2                9.4              9.6               5.2              0.6\n",
       "3                9.2              9.3               6.0              0.6\n",
       "4               10.0             10.8               5.6              0.6"
      ]
     },
     "execution_count": 4,
     "metadata": {},
     "output_type": "execute_result"
    }
   ],
   "source": [
    "df.head()"
   ]
  },
  {
   "cell_type": "code",
   "execution_count": 5,
   "metadata": {
    "scrolled": true
   },
   "outputs": [
    {
     "name": "stdout",
     "output_type": "stream",
     "text": [
      "<class 'pandas.core.frame.DataFrame'>\n",
      "RangeIndex: 151 entries, 0 to 150\n",
      "Data columns (total 4 columns):\n",
      " #   Column             Non-Null Count  Dtype  \n",
      "---  ------             --------------  -----  \n",
      " 0   GreenMango Length  151 non-null    float64\n",
      " 1   GreenMangowidth    151 non-null    float64\n",
      " 2   YelloMangoLength   151 non-null    float64\n",
      " 3   YelloMangoWidth    151 non-null    float64\n",
      "dtypes: float64(4)\n",
      "memory usage: 4.8 KB\n"
     ]
    }
   ],
   "source": [
    "df.info()"
   ]
  },
  {
   "cell_type": "code",
   "execution_count": 6,
   "metadata": {
    "scrolled": true
   },
   "outputs": [
    {
     "data": {
      "text/plain": [
       "GreenMango Length    float64\n",
       "GreenMangowidth      float64\n",
       "YelloMangoLength     float64\n",
       "YelloMangoWidth      float64\n",
       "dtype: object"
      ]
     },
     "execution_count": 6,
     "metadata": {},
     "output_type": "execute_result"
    }
   ],
   "source": [
    "df.dtypes"
   ]
  },
  {
   "cell_type": "code",
   "execution_count": 8,
   "metadata": {},
   "outputs": [
    {
     "name": "stdout",
     "output_type": "stream",
     "text": [
      "[[10.2 10.5  5.6  0.6]\n",
      " [ 9.8  9.   5.6  0.6]\n",
      " [ 9.4  9.6  5.2  0.6]\n",
      " [ 9.2  9.3  6.   0.6]\n",
      " [10.  10.8  5.6  0.6]\n",
      " [10.8 11.7  6.8  1.2]\n",
      " [ 9.2 10.2  5.6  0.9]\n",
      " [10.  10.2  6.   0.6]\n",
      " [ 8.8  8.7  5.6  0.6]\n",
      " [ 9.8  9.3  6.   0.3]\n",
      " [10.8 11.1  6.   0.6]\n",
      " [ 9.6 10.2  6.4  0.6]\n",
      " [ 9.6  9.   5.6  0.3]\n",
      " [ 8.6  9.   4.4  0.3]\n",
      " [11.6 12.   4.8  0.6]\n",
      " [11.4 13.2  6.   1.2]\n",
      " [10.8 11.7  5.2  1.2]\n",
      " [10.2 10.5  5.6  0.9]\n",
      " [11.4 11.4  6.8  0.9]\n",
      " [10.2 11.4  6.   0.9]\n",
      " [10.8 10.2  6.8  0.6]\n",
      " [10.2 11.1  6.   1.2]\n",
      " [ 9.2 10.8  4.   0.6]\n",
      " [10.2  9.9  6.8  1.5]\n",
      " [ 9.6 10.2  7.6  0.6]\n",
      " [10.   9.   6.4  0.6]\n",
      " [10.  10.2  6.4  1.2]\n",
      " [10.4 10.5  6.   0.6]\n",
      " [10.4 10.2  5.6  0.6]\n",
      " [ 9.4  9.6  6.4  0.6]\n",
      " [ 9.6  9.3  6.4  0.6]\n",
      " [10.8 10.2  6.   1.2]\n",
      " [10.4 12.3  6.   0.3]\n",
      " [11.  12.6  5.6  0.6]\n",
      " [ 9.8  9.3  6.   0.3]\n",
      " [10.   9.6  4.8  0.6]\n",
      " [11.  10.5  5.2  0.6]\n",
      " [ 9.8  9.3  6.   0.3]\n",
      " [ 8.8  9.   5.2  0.6]\n",
      " [10.2 10.2  6.   0.6]\n",
      " [10.  10.5  5.2  0.9]\n",
      " [ 9.   6.9  5.2  0.9]\n",
      " [ 8.8  9.6  5.2  0.6]\n",
      " [10.  10.5  6.4  1.8]\n",
      " [10.2 11.4  7.6  1.2]\n",
      " [ 9.6  9.   5.6  0.9]\n",
      " [10.2 11.4  6.4  0.6]\n",
      " [ 9.2  9.6  5.6  0.6]\n",
      " [10.6 11.1  6.   0.6]\n",
      " [10.   9.9  5.6  0.6]\n",
      " [14.   9.6 18.8  4.2]\n",
      " [12.8  9.6 18.   4.5]\n",
      " [13.8  9.3 19.6  4.5]\n",
      " [11.   6.9 16.   3.9]\n",
      " [13.   8.4 18.4  4.5]\n",
      " [11.4  8.4 18.   3.9]\n",
      " [12.6  9.9 18.8  4.8]\n",
      " [ 9.8  7.2 13.2  3. ]\n",
      " [13.2  8.7 18.4  3.9]\n",
      " [10.4  8.1 15.6  4.2]\n",
      " [10.   6.  14.   3. ]\n",
      " [11.8  9.  16.8  4.5]\n",
      " [12.   6.6 16.   3. ]\n",
      " [12.2  8.7 18.8  4.2]\n",
      " [11.2  8.7 14.4  3.9]\n",
      " [13.4  9.3 17.6  4.2]\n",
      " [11.2  9.  18.   4.5]\n",
      " [11.6  8.1 16.4  3. ]\n",
      " [12.4  6.6 18.   4.5]\n",
      " [11.2  7.5 15.6  3.3]\n",
      " [11.8  9.6 19.2  5.4]\n",
      " [12.2  8.4 16.   3.9]\n",
      " [12.6  7.5 19.6  4.5]\n",
      " [12.2  8.4 18.8  3.6]\n",
      " [12.8  8.7 17.2  3.9]\n",
      " [13.2  9.  17.6  4.2]\n",
      " [13.6  8.4 19.2  4.2]\n",
      " [13.4  9.  20.   5.1]\n",
      " [12.   8.7 18.   4.5]\n",
      " [11.4  7.8 14.   3. ]\n",
      " [11.   7.2 15.2  3.3]\n",
      " [11.   7.2 14.8  3. ]\n",
      " [11.6  8.1 15.6  3.6]\n",
      " [12.   8.1 20.4  4.8]\n",
      " [10.8  9.  18.   4.5]\n",
      " [12.  10.2 18.   4.8]\n",
      " [13.4  9.3 18.8  4.5]\n",
      " [12.6  6.9 17.6  3.9]\n",
      " [11.2  9.  16.4  3.9]\n",
      " [11.   7.5 16.   3.9]\n",
      " [11.   7.8 17.6  3.6]\n",
      " [12.2  9.  18.4  4.2]\n",
      " [11.6  7.8 16.   3.6]\n",
      " [10.   6.9 13.2  3. ]\n",
      " [11.2  8.1 16.8  3.9]\n",
      " [11.4  9.  16.8  3.6]\n",
      " [11.4  8.7 16.8  3.9]\n",
      " [12.4  8.7 17.2  3.9]\n",
      " [10.2  7.5 12.   3.3]\n",
      " [11.4  8.4 16.4  3.9]\n",
      " [12.6  9.9 24.   7.5]\n",
      " [11.6  8.1 20.4  5.7]\n",
      " [14.2  9.  23.6  6.3]\n",
      " [12.6  8.7 22.4  5.4]\n",
      " [13.   9.  23.2  6.6]\n",
      " [15.2  9.  26.4  6.3]\n",
      " [ 9.8  7.5 18.   5.1]\n",
      " [14.6  8.7 25.2  5.4]\n",
      " [13.4  7.5 23.2  5.4]\n",
      " [14.4 10.8 24.4  7.5]\n",
      " [13.   9.6 20.4  6. ]\n",
      " [12.8  8.1 21.2  5.7]\n",
      " [13.6  9.  22.   6.3]\n",
      " [11.4  7.5 20.   6. ]\n",
      " [11.6  8.4 20.4  7.2]\n",
      " [12.8  9.6 21.2  6.9]\n",
      " [13.   9.  22.   5.4]\n",
      " [15.4 11.4 26.8  6.6]\n",
      " [15.4  7.8 27.6  6.9]\n",
      " [12.   6.6 20.   4.5]\n",
      " [13.8  9.6 22.8  6.9]\n",
      " [11.2  8.4 19.6  6. ]\n",
      " [15.4  8.4 26.8  6. ]\n",
      " [12.6  8.1 19.6  5.4]\n",
      " [13.4  9.9 22.8  6.3]\n",
      " [14.4  9.6 24.   5.4]\n",
      " [12.4  8.4 19.2  5.4]\n",
      " [12.2  9.  19.6  5.4]\n",
      " [12.8  8.4 22.4  6.3]\n",
      " [14.4  9.  23.2  4.8]\n",
      " [14.8  8.4 24.4  5.7]\n",
      " [15.8 11.4 25.6  6. ]\n",
      " [12.8  8.4 22.4  6.6]\n",
      " [12.6  8.4 20.4  4.5]\n",
      " [12.2  7.8 22.4  4.2]\n",
      " [15.4  9.  24.4  6.9]\n",
      " [12.6 10.2 22.4  7.2]\n",
      " [12.8  9.3 22.   5.4]\n",
      " [12.   9.  19.2  5.4]\n",
      " [13.8  9.3 21.6  6.3]\n",
      " [13.4  9.3 22.4  7.2]\n",
      " [13.8  9.3 20.4  6.9]\n",
      " [11.6  8.1 20.4  5.7]\n",
      " [13.6  9.6 23.6  6.9]\n",
      " [13.4  9.9 22.8  7.5]\n",
      " [13.4  9.  20.8  6.9]\n",
      " [12.6  7.5 20.   5.7]\n",
      " [13.   9.  20.8  6. ]\n",
      " [12.4 10.2 21.6  6.9]\n",
      " [11.8  9.  20.4  5.4]\n",
      " [ 0.   0.   0.   0. ]]\n"
     ]
    }
   ],
   "source": [
    "X = df.iloc[:, [0, 1, 2, 3]].values\n",
    "print(X)"
   ]
  },
  {
   "cell_type": "code",
   "execution_count": 11,
   "metadata": {},
   "outputs": [
    {
     "data": {
      "image/png": "[encoded data removed]",
      "text/plain": [
       "<Figure size 432x288 with 1 Axes>"
      ]
     },
     "metadata": {
      "needs_background": "light"
     },
     "output_type": "display_data"
    }
   ],
   "source": [
    "sq = []\n",
    "for i in range(1, 11):\n",
    "    kmeans = KMeans(n_clusters = i, init = 'k-means++', max_iter = 300,\n",
    "                   n_init = 10, random_state =0)\n",
    "    kmeans.fit(X)\n",
    "    sq.append(kmeans.inertia_)\n",
    "#plot the elbow graph    \n",
    "plt.plot(range(1, 11), sq)\n",
    "plt.show()"
   ]
  },
  {
   "cell_type": "code",
   "execution_count": 18,
   "metadata": {},
   "outputs": [
    {
     "data": {
      "image/png": "[encoded data removed]",
      "text/plain": [
       "<Figure size 432x288 with 1 Axes>"
      ]
     },
     "metadata": {
      "needs_background": "light"
     },
     "output_type": "display_data"
    }
   ],
   "source": [
    "kmeans = KMeans(n_clusters=3, init = 'k-means++', max_iter=300,\n",
    "                   n_init = 10, random_state =0)\n",
    "y_kmeans = kmeans.fit_predict(X)\n",
    "    \n",
    "\n",
    "plt.scatter(X[y_kmeans==0, 0], X[y_kmeans==0,1], s=100, c='red', label ='Cluster 0')    \n",
    "plt.scatter(X[y_kmeans==1, 0], X[y_kmeans==1,1], s=100, c='blue', label ='Cluster 1')\n",
    "plt.scatter(X[y_kmeans==2, 0], X[y_kmeans==2,1], s=100, c='green', label ='Cluster 2')\n",
    "\n",
    "\n",
    "plt.scatter(kmeans.cluster_centers_[:,0],\n",
    "           kmeans.cluster_centers_[:,1], s=300, c='yellow', label ='Centroids')\n",
    "plt.title('Cluster of Mangoes')\n",
    "plt.xlabel('Cluster')\n",
    "plt.ylabel('Cluster Center')\n",
    "plt.show()"
   ]
  },
  {
   "cell_type": "code",
   "execution_count": null,
   "metadata": {},
   "outputs": [],
   "source": []
  },
  {
   "cell_type": "code",
   "execution_count": null,
   "metadata": {},
   "outputs": [],
   "source": []
  },
  {
   "cell_type": "code",
   "execution_count": null,
   "metadata": {},
   "outputs": [],
   "source": []
  },
  {
   "cell_type": "code",
   "execution_count": null,
   "metadata": {},
   "outputs": [],
   "source": []
  },
  {
   "cell_type": "code",
   "execution_count": null,
   "metadata": {},
   "outputs": [],
   "source": []
  },
  {
   "cell_type": "code",
   "execution_count": null,
   "metadata": {},
   "outputs": [],
   "source": []
  },
  {
   "cell_type": "code",
   "execution_count": null,
   "metadata": {},
   "outputs": [],
   "source": []
  },
  {
   "cell_type": "code",
   "execution_count": null,
   "metadata": {},
   "outputs": [],
   "source": []
  },
  {
   "cell_type": "code",
   "execution_count": null,
   "metadata": {},
   "outputs": [],
   "source": []
  }
 ],
 "metadata": {
  "kernelspec": {
   "display_name": "Python 3",
   "language": "python",
   "name": "python3"
  },
  "language_info": {
   "codemirror_mode": {
    "name": "ipython",
    "version": 3
   },
   "file_extension": ".py",
   "mimetype": "text/x-python",
   "name": "python",
   "nbconvert_exporter": "python",
   "pygments_lexer": "ipython3",
   "version": "3.8.3"
  }
 },
 "nbformat": 4,
 "nbformat_minor": 4
}
